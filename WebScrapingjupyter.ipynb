{
 "cells": [
  {
   "cell_type": "markdown",
   "id": "a3242526",
   "metadata": {},
   "source": [
    "# Instalando bibliotecas"
   ]
  },
  {
   "cell_type": "code",
   "execution_count": 36,
   "id": "4e49a5f2",
   "metadata": {},
   "outputs": [],
   "source": [
    "from selenium import webdriver\n",
    "from selenium.webdriver.chrome.service import Service\n",
    "from selenium.webdriver.common.by import By\n",
    "from selenium.webdriver.chrome.options import Options\n",
    "import pandas as pd\n",
    "import openpyxl\n",
    "import time\n"
   ]
  },
  {
   "cell_type": "markdown",
   "id": "c62f045c",
   "metadata": {},
   "source": []
  },
  {
   "cell_type": "markdown",
   "id": "de87fd1b",
   "metadata": {},
   "source": []
  },
  {
   "cell_type": "markdown",
   "id": "4444012d",
   "metadata": {},
   "source": [
    "# Inicializando navegador\n"
   ]
  },
  {
   "cell_type": "code",
   "execution_count": 37,
   "id": "f435aa1e",
   "metadata": {},
   "outputs": [],
   "source": [
    "options = Options()\n",
    "# options.add_argument(\"--headless\")  # Executa sem abrir janela\n",
    "options.add_argument(\"--no-sandbox\")\n",
    "\n",
    "# Aponta para o chromedriver na raiz do projeto\n",
    "service = Service(executable_path=\"./chromedriver-linux64/chromedriver\")\n",
    "driver = webdriver.Chrome(service=service, options=options)\n",
    "\n",
    "# Acessa a página dos campeões\n",
    "driver.get('https://www.op.gg/champions')"
   ]
  },
  {
   "cell_type": "markdown",
   "id": "6b92397d",
   "metadata": {},
   "source": [
    "# Inicializando a raspagem\n"
   ]
  },
  {
   "cell_type": "code",
   "execution_count": 38,
   "id": "247bc38f",
   "metadata": {},
   "outputs": [],
   "source": [
    "# Scroll infinito até o fim da página\n",
    "last_height = driver.execute_script(\"return document.body.scrollHeight\")\n",
    "while True:\n",
    "    driver.execute_script(\"window.scrollTo(0, document.body.scrollHeight);\")\n",
    "    time.sleep(2)\n",
    "    new_height = driver.execute_script(\"return document.body.scrollHeight\")\n",
    "    if new_height == last_height:\n",
    "        break\n",
    "    last_height = new_height"
   ]
  },
  {
   "cell_type": "markdown",
   "id": "8f1a7752",
   "metadata": {},
   "source": [
    "# Raspando os dados\n"
   ]
  },
  {
   "cell_type": "code",
   "execution_count": 61,
   "id": "d28c3f72",
   "metadata": {},
   "outputs": [
    {
     "name": "stdout",
     "output_type": "stream",
     "text": [
      "{8, 1}\n"
     ]
    }
   ],
   "source": [
    "from selenium.webdriver.common.by import By\n",
    "import pandas as pd\n",
    "import time  # para dar tempo da página atualizar após cada clique\n",
    "\n",
    "# Lanes que vamos processar\n",
    "lanes = [\"Top\", \"Jungle\", \"Middle\", \"Bottom\", \"Support\"]\n",
    "\n",
    "# Lista para juntar todos os dados\n",
    "all_data = []\n",
    "\n",
    "for lane in lanes:\n",
    "    # Clica no botão da lane\n",
    "    spans = driver.find_elements(By.TAG_NAME, \"span\")\n",
    "    for span in spans:\n",
    "        if span.text.strip().lower() == lane.lower():\n",
    "            span.click()\n",
    "            time.sleep(2)  # Aguarda a tabela atualizar (ajuste se necessário)\n",
    "            break\n",
    "\n",
    "    # Raspa os dados da tabela\n",
    "    try:\n",
    "        tbody = driver.find_element(By.TAG_NAME, 'tbody')\n",
    "        rows = tbody.find_elements(By.TAG_NAME, 'tr')\n",
    "        for row in rows:\n",
    "            cells = row.find_elements(By.TAG_NAME, 'td')\n",
    "            row_data = [cell.text for cell in cells]\n",
    "            if row_data:\n",
    "                # Adiciona a lane como uma nova coluna no início\n",
    "                all_data.append([lane] + row_data)\n",
    "    except:\n",
    "        print(f\"Erro ao processar lane {lane}\")\n",
    "\n",
    "# Verifica se as linhas têm a mesma quantidade de colunas\n",
    "print(set(len(row) for row in all_data))\n",
    "\n",
    "# Ajuste os nomes das colunas conforme a estrutura real da tabela\n",
    "# Aqui estou assumindo 8 colunas de dados + 1 coluna da lane\n",
    "columns = ['Lane', '', 'Champion', '', '', 'Win Rate', 'Pick Rate', '', '']  # ajuste conforme necessário\n",
    "\n",
    "# Filtra linhas inconsistentes\n",
    "all_data = [row for row in all_data if len(row) == len(columns)]\n",
    "\n",
    "# Cria o DataFrame\n",
    "df = pd.DataFrame(all_data, columns=columns)\n",
    "\n",
    "# Exporta para Excel\n",
    "df.to_excel(\"todos_champions.xlsx\", index=False)\n"
   ]
  },
  {
   "cell_type": "code",
   "execution_count": null,
   "id": "c24306c1",
   "metadata": {},
   "outputs": [
    {
     "data": {
      "text/plain": [
       "<selenium.webdriver.remote.webelement.WebElement (session=\"bfa394dcd740f39a2a491fa4305b4a7f\", element=\"f.C58E1A26C5B106833B26C2B20F707037.d.EA317CC4E2D277A8FC83419F22890184.e.2322\")>"
      ]
     },
     "execution_count": 51,
     "metadata": {},
     "output_type": "execute_result"
    }
   ],
   "source": [
    "\n",
    "\n"
   ]
  },
  {
   "cell_type": "code",
   "execution_count": null,
   "id": "8686d5f1",
   "metadata": {},
   "outputs": [],
   "source": []
  },
  {
   "cell_type": "code",
   "execution_count": 56,
   "id": "bd3fea3c",
   "metadata": {},
   "outputs": [
    {
     "data": {
      "text/plain": [
       "['20', 'Kayn', '', '', '51.68%', '8.58%', '', '']"
      ]
     },
     "execution_count": 56,
     "metadata": {},
     "output_type": "execute_result"
    }
   ],
   "source": [
    "data[19]"
   ]
  },
  {
   "cell_type": "code",
   "execution_count": null,
   "id": "bb976e64",
   "metadata": {},
   "outputs": [],
   "source": []
  },
  {
   "cell_type": "markdown",
   "id": "2414e5f0",
   "metadata": {},
   "source": []
  },
  {
   "cell_type": "markdown",
   "id": "aed212fb",
   "metadata": {},
   "source": []
  },
  {
   "cell_type": "code",
   "execution_count": null,
   "id": "e5d9f71d",
   "metadata": {},
   "outputs": [],
   "source": []
  },
  {
   "cell_type": "code",
   "execution_count": null,
   "id": "4bc0e040",
   "metadata": {},
   "outputs": [],
   "source": []
  }
 ],
 "metadata": {
  "kernelspec": {
   "display_name": "Python 3",
   "language": "python",
   "name": "python3"
  },
  "language_info": {
   "codemirror_mode": {
    "name": "ipython",
    "version": 3
   },
   "file_extension": ".py",
   "mimetype": "text/x-python",
   "name": "python",
   "nbconvert_exporter": "python",
   "pygments_lexer": "ipython3",
   "version": "3.12.7"
  }
 },
 "nbformat": 4,
 "nbformat_minor": 5
}
